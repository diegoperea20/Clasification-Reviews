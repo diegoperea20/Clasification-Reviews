{
  "cells": [
    {
      "cell_type": "code",
      "execution_count": null,
      "metadata": {
        "colab": {
          "base_uri": "https://localhost:8080/"
        },
        "id": "4ONpNmeHUE9K",
        "outputId": "4164b130-f873-4c57-ed88-dd519a7625c6"
      },
      "outputs": [
        {
          "output_type": "stream",
          "name": "stdout",
          "text": [
            "Downloading data from https://storage.googleapis.com/tensorflow/tf-keras-datasets/imdb.npz\n",
            "17464789/17464789 [==============================] - 0s 0us/step\n",
            "Downloading data from https://storage.googleapis.com/tensorflow/tf-keras-datasets/imdb_word_index.json\n",
            "1641221/1641221 [==============================] - 0s 0us/step\n",
            "Train accuracy: 0.98208\n",
            "Test accuracy: 0.8854\n"
          ]
        }
      ],
      "source": [
        "import numpy as np\n",
        "from tensorflow.keras.datasets import imdb\n",
        "from sklearn.feature_extraction.text import TfidfVectorizer\n",
        "from sklearn.svm import SVC\n",
        "import joblib\n",
        "\n",
        "# Load the IMDB dataset with a vocabulary size of 10,000\n",
        "vocab_size = 10000\n",
        "(x_train, y_train), (x_test, y_test) = imdb.load_data(num_words=vocab_size)\n",
        "\n",
        "# Convert the word indices to text\n",
        "word_index = imdb.get_word_index()\n",
        "word_index = {k: (v + 3) for k, v in word_index.items()}\n",
        "word_index[\"<PAD>\"] = 0\n",
        "word_index[\"<START>\"] = 1\n",
        "word_index[\"<UNK>\"] = 2\n",
        "word_index[\"<UNUSED>\"] = 3\n",
        "reverse_word_index = {v: k for k, v in word_index.items()}\n",
        "x_train = [\" \".join([reverse_word_index.get(i - 3, \"<UNK>\") for i in s]) for s in x_train]\n",
        "x_test = [\" \".join([reverse_word_index.get(i - 3, \"<UNK>\") for i in s]) for s in x_test]\n",
        "\n",
        "# Pre-process the text data using TF-IDF\n",
        "vectorizer = TfidfVectorizer(max_features=vocab_size)\n",
        "x_train_tfidf = vectorizer.fit_transform(x_train)\n",
        "x_test_tfidf = vectorizer.transform(x_test)\n",
        "\n",
        "# Train a support vector machine (SVM) on the TF-IDF matrices\n",
        "svm = SVC()\n",
        "svm.fit(x_train_tfidf, y_train)\n",
        "\n",
        "# Evaluate the SVM model on the TF-IDF matrices\n",
        "train_acc = svm.score(x_train_tfidf, y_train)\n",
        "test_acc = svm.score(x_test_tfidf, y_test)\n",
        "\n",
        "print(f\"Train accuracy: {train_acc}\")\n",
        "print(f\"Test accuracy: {test_acc}\")\n",
        "\n"
      ]
    },
    {
      "cell_type": "code",
      "source": [
        "vectorizer = TfidfVectorizer()\n",
        "vectorizer.fit(x_train)\n",
        "\n",
        "# Guardar el vectorizador en un archivo\n",
        "joblib.dump(vectorizer, \"vectorizer.pkl\")"
      ],
      "metadata": {
        "colab": {
          "base_uri": "https://localhost:8080/"
        },
        "id": "NzP2L8GwFF4r",
        "outputId": "f8efa3eb-6c8a-44f1-ae6f-ea306f6609a7"
      },
      "execution_count": null,
      "outputs": [
        {
          "output_type": "execute_result",
          "data": {
            "text/plain": [
              "['vectorizer.pkl']"
            ]
          },
          "metadata": {},
          "execution_count": 14
        }
      ]
    },
    {
      "cell_type": "code",
      "source": [
        "\n",
        "# Guardar el modelo en un archivo\n",
        "joblib.dump(svm, 'modelo_svm.pkl')\n",
        "#svm.save(\"modelo3.h5\")"
      ],
      "metadata": {
        "colab": {
          "base_uri": "https://localhost:8080/"
        },
        "id": "q2bEdLZDpM95",
        "outputId": "e071f478-82af-47c4-e5c5-6ff33161394e"
      },
      "execution_count": null,
      "outputs": [
        {
          "output_type": "execute_result",
          "data": {
            "text/plain": [
              "['modelo_svm.pkl']"
            ]
          },
          "metadata": {},
          "execution_count": 2
        }
      ]
    },
    {
      "cell_type": "code",
      "source": [
        "import numpy as np\n",
        "import matplotlib.pyplot as plt\n",
        "import seaborn as sns\n",
        "from sklearn.metrics import confusion_matrix\n",
        "\n",
        "# Obtener las predicciones del modelo SVM en el conjunto de entrenamiento y prueba\n",
        "train_predictions = svm.predict(x_train_tfidf)\n",
        "test_predictions = svm.predict(x_test_tfidf)\n",
        "\n",
        "# Crear la matriz de confusión para el conjunto de entrenamiento\n",
        "train_cm = confusion_matrix(y_train, train_predictions)\n",
        "\n",
        "# Crear la matriz de confusión para el conjunto de prueba\n",
        "test_cm = confusion_matrix(y_test, test_predictions)\n",
        "\n",
        "# Graficar la matriz de confusión para el conjunto de prueba\n",
        "plt.figure(figsize=(8, 6))\n",
        "sns.heatmap(test_cm, annot=True, fmt=\"d\", cmap=\"Blues\")\n",
        "plt.title(\"Matriz de Confusión - Conjunto de Prueba\")\n",
        "plt.xlabel(\"Predicción\")\n",
        "plt.ylabel(\"Valor Real\")\n",
        "plt.show()\n",
        "\n"
      ],
      "metadata": {
        "colab": {
          "base_uri": "https://localhost:8080/",
          "height": 783
        },
        "id": "Oe-ympST2f5E",
        "outputId": "96f53365-40ea-4c38-b994-3b1a0aa39ba8"
      },
      "execution_count": null,
      "outputs": [
        {
          "output_type": "display_data",
          "data": {
            "text/plain": [
              "<Figure size 800x600 with 2 Axes>"
            ],
            "image/png": "[encoded data removed]"
          },
          "metadata": {}
        },
        {
          "output_type": "error",
          "ename": "AttributeError",
          "evalue": "ignored",
          "traceback": [
            "\u001b[0;31m---------------------------------------------------------------------------\u001b[0m",
            "\u001b[0;31mAttributeError\u001b[0m                            Traceback (most recent call last)",
            "\u001b[0;32m<ipython-input-9-254e97be6d54>\u001b[0m in \u001b[0;36m<cell line: 25>\u001b[0;34m()\u001b[0m\n\u001b[1;32m     23\u001b[0m \u001b[0;34m\u001b[0m\u001b[0m\n\u001b[1;32m     24\u001b[0m \u001b[0;31m# Graficar las curvas de loss y accuracy\u001b[0m\u001b[0;34m\u001b[0m\u001b[0;34m\u001b[0m\u001b[0m\n\u001b[0;32m---> 25\u001b[0;31m \u001b[0mepochs\u001b[0m \u001b[0;34m=\u001b[0m \u001b[0mrange\u001b[0m\u001b[0;34m(\u001b[0m\u001b[0;36m1\u001b[0m\u001b[0;34m,\u001b[0m \u001b[0mlen\u001b[0m\u001b[0;34m(\u001b[0m\u001b[0msvm\u001b[0m\u001b[0;34m.\u001b[0m\u001b[0mloss_curve_\u001b[0m\u001b[0;34m)\u001b[0m \u001b[0;34m+\u001b[0m \u001b[0;36m1\u001b[0m\u001b[0;34m)\u001b[0m\u001b[0;34m\u001b[0m\u001b[0;34m\u001b[0m\u001b[0m\n\u001b[0m\u001b[1;32m     26\u001b[0m \u001b[0mplt\u001b[0m\u001b[0;34m.\u001b[0m\u001b[0mfigure\u001b[0m\u001b[0;34m(\u001b[0m\u001b[0mfigsize\u001b[0m\u001b[0;34m=\u001b[0m\u001b[0;34m(\u001b[0m\u001b[0;36m12\u001b[0m\u001b[0;34m,\u001b[0m \u001b[0;36m4\u001b[0m\u001b[0;34m)\u001b[0m\u001b[0;34m)\u001b[0m\u001b[0;34m\u001b[0m\u001b[0;34m\u001b[0m\u001b[0m\n\u001b[1;32m     27\u001b[0m \u001b[0;34m\u001b[0m\u001b[0m\n",
            "\u001b[0;31mAttributeError\u001b[0m: 'SVC' object has no attribute 'loss_curve_'"
          ]
        }
      ]
    },
    {
      "cell_type": "code",
      "source": [
        "# Graficar las curvas de precisión\n",
        "labels = [\"Train Accuracy\", \"Test Accuracy\"]\n",
        "accuracy = [train_acc, test_acc]\n",
        "\n",
        "plt.figure(figsize=(6, 4))\n",
        "plt.bar(labels, accuracy)\n",
        "plt.title(\"Precisión del Modelo\")\n",
        "plt.ylabel(\"Accuracy\")\n",
        "plt.ylim(0, 1)\n",
        "plt.show()"
      ],
      "metadata": {
        "colab": {
          "base_uri": "https://localhost:8080/",
          "height": 391
        },
        "id": "82FBB0dh9TE2",
        "outputId": "50274c47-ea75-4c2c-b8cd-0d585ad4a1fc"
      },
      "execution_count": null,
      "outputs": [
        {
          "output_type": "display_data",
          "data": {
            "text/plain": [
              "<Figure size 600x400 with 1 Axes>"
            ],
            "image/png": "[encoded data removed]"
          },
          "metadata": {}
        }
      ]
    },
    {
      "cell_type": "code",
      "source": [
        "# Load the trained SVM model\n",
        "svm = joblib.load(\"modelo_svm.pkl\")\n",
        "\n",
        "# Prompt the user to enter a review for classification\n",
        "user_review = input(\"Enter a review for classification: \")\n",
        "\n",
        "# Pre-process the user's review using TF-IDF vectorizer\n",
        "user_tfidf = vectorizer.transform([user_review])\n",
        "\n",
        "# Use the trained SVM model to predict the sentiment of the user's review\n",
        "prediction = svm.predict(user_tfidf)\n",
        "\n",
        "# Print the predicted sentiment\n",
        "if prediction == 1:\n",
        "    print(\"Positive review!\")\n",
        "    \n",
        "else:\n",
        "    print(\"Negative review!\")"
      ],
      "metadata": {
        "colab": {
          "base_uri": "https://localhost:8080/"
        },
        "id": "08OaCJ1V-Rei",
        "outputId": "61f0b9dc-6967-4371-b165-d159d1d4d336"
      },
      "execution_count": null,
      "outputs": [
        {
          "output_type": "stream",
          "name": "stdout",
          "text": [
            "Enter a review for classification: nice movie\n",
            "Positive review!\n"
          ]
        }
      ]
    },
    {
      "cell_type": "code",
      "source": [
        "# Cargar el modelo desde el archivo\n",
        "modelo_cargado = joblib.load('modelo_svm.pkl')\n",
        "\n",
        "# Hacer predicciones utilizando el modelo cargado\n",
        "predicciones = modelo_cargado.predict(x_test_tfidf)\n"
      ],
      "metadata": {
        "id": "E0Z3xLJ-p-ym"
      },
      "execution_count": null,
      "outputs": []
    }
  ],
  "metadata": {
    "colab": {
      "provenance": []
    },
    "kernelspec": {
      "display_name": "Python 3",
      "name": "python3"
    },
    "language_info": {
      "name": "python"
    }
  },
  "nbformat": 4,
  "nbformat_minor": 0
}